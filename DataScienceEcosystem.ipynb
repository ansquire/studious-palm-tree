{
 "cells": [
  {
   "cell_type": "markdown",
   "id": "1e10b0bf",
   "metadata": {},
   "source": [
    "***Exercise 1: Create a Jupyter Notebook***"
   ]
  },
  {
   "cell_type": "markdown",
   "id": "b56e816b",
   "metadata": {},
   "source": [
    "***Exercise 2: Create markdown cell with title of the notebook***"
   ]
  },
  {
   "cell_type": "markdown",
   "id": "50fa499d",
   "metadata": {},
   "source": [
    "# Data Science Tools and Ecosystem"
   ]
  },
  {
   "cell_type": "markdown",
   "id": "bf6941fb",
   "metadata": {},
   "source": [
    "***Exercise 3: Create a markdown cell for an introduction***"
   ]
  },
  {
   "cell_type": "markdown",
   "id": "0a60959c",
   "metadata": {},
   "source": [
    "In this notebook, Data Science Tools and Ecosystem are summarized."
   ]
  },
  {
   "cell_type": "markdown",
   "id": "fbf2ea26",
   "metadata": {},
   "source": [
    "***Exercise 10: Insert a markdown cell to list Objectives***"
   ]
  },
  {
   "cell_type": "markdown",
   "id": "24c083eb",
   "metadata": {},
   "source": [
    "**Objectives:**\n",
    "* Create and use Markdown cells\n",
    "* List popular languages for Data Science\n",
    "* List popular libraries for Data Science\n",
    "* List development environment open source tools for Data Science\n",
    "* Create and execute a Code Cell"
   ]
  },
  {
   "cell_type": "markdown",
   "id": "83f0e297",
   "metadata": {},
   "source": [
    "***Exercise 4: Create a markdown cell to list data science languages***"
   ]
  },
  {
   "cell_type": "markdown",
   "id": "b6068b29",
   "metadata": {},
   "source": [
    "Some of the popular languages that Data Scientists use are:\n",
    "1. Python\n",
    "2. R\n",
    "3. SQl - Structured Query Language\n",
    "4. Java\n",
    "5. Scala\n",
    "6. C++\n",
    "7. JavaScript"
   ]
  },
  {
   "cell_type": "markdown",
   "id": "c5dfa53d",
   "metadata": {},
   "source": [
    "***Exercise 5: Create a markdown cell to list data science libraries***"
   ]
  },
  {
   "cell_type": "markdown",
   "id": "1167c375",
   "metadata": {},
   "source": [
    "Some of the commonly used libraries used by Data Scientists include:\n",
    "1. TensorFlow\n",
    "2. PyTorch\n",
    "3. Scikit Learn\n",
    "4. Keras\n",
    "5. Matplotlib\n",
    "6. NumPy\n",
    "7. Pandas"
   ]
  },
  {
   "cell_type": "markdown",
   "id": "34a8e347",
   "metadata": {},
   "source": [
    "***Exercise 6: Create a markdown cell with a table of Data Science tools***"
   ]
  },
  {
   "cell_type": "markdown",
   "id": "1114619a",
   "metadata": {},
   "source": [
    "| Data Science Tools |\n",
    "| ------------------ |\n",
    "| Jupyter |\n",
    "| R Studio |\n",
    "| Apache Zeppelin |"
   ]
  },
  {
   "cell_type": "markdown",
   "id": "30fe9bf8",
   "metadata": {},
   "source": [
    "***Exercise 7: Create a markdown cell introducing arithmetic expression examples***"
   ]
  },
  {
   "cell_type": "markdown",
   "id": "6ef8a363",
   "metadata": {},
   "source": [
    "### Below are a few examples of evaluating arithmetic expressions in Python"
   ]
  },
  {
   "cell_type": "markdown",
   "id": "ce4ba487",
   "metadata": {},
   "source": [
    "***Exercise 8: Create a code cell to multiply and add numbers***"
   ]
  },
  {
   "cell_type": "code",
   "execution_count": 14,
   "id": "37097282",
   "metadata": {},
   "outputs": [
    {
     "data": {
      "text/plain": [
       "17"
      ]
     },
     "execution_count": 14,
     "metadata": {},
     "output_type": "execute_result"
    }
   ],
   "source": [
    "# This a simple arithmetic expression to mutiply then add integers\n",
    "(3*4)+5"
   ]
  },
  {
   "cell_type": "markdown",
   "id": "b05419c0",
   "metadata": {},
   "source": [
    "***Exercise 9: Create a code cell to convert minutes to hours***"
   ]
  },
  {
   "cell_type": "code",
   "execution_count": 24,
   "id": "41aae42a",
   "metadata": {
    "scrolled": true
   },
   "outputs": [
    {
     "data": {
      "text/plain": [
       "3.3333333333333335"
      ]
     },
     "execution_count": 24,
     "metadata": {},
     "output_type": "execute_result"
    }
   ],
   "source": [
    "# This will convert 200 minutes to hours by diving by 60\n",
    "200/60"
   ]
  },
  {
   "cell_type": "markdown",
   "id": "1598e329",
   "metadata": {},
   "source": [
    "***Exercise 11: Create a markdown cell to indicate the Author's name***"
   ]
  },
  {
   "cell_type": "markdown",
   "id": "588d2ba4",
   "metadata": {},
   "source": [
    "## Author\n",
    "Ashlynn Squire"
   ]
  }
 ],
 "metadata": {
  "kernelspec": {
   "display_name": "Python 3 (ipykernel)",
   "language": "python",
   "name": "python3"
  },
  "language_info": {
   "codemirror_mode": {
    "name": "ipython",
    "version": 3
   },
   "file_extension": ".py",
   "mimetype": "text/x-python",
   "name": "python",
   "nbconvert_exporter": "python",
   "pygments_lexer": "ipython3",
   "version": "3.11.5"
  }
 },
 "nbformat": 4,
 "nbformat_minor": 5
}
